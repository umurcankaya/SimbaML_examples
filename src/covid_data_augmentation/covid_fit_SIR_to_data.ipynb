{
 "cells": [
  {
   "cell_type": "code",
   "execution_count": 1,
   "metadata": {
    "id": "7iQ89A_taIm3"
   },
   "outputs": [],
   "source": [
    "import numpy as np\n",
    "import matplotlib.pyplot as plt\n",
    "import pandas as pd\n",
    "\n",
    "import jax\n",
    "import jax.numpy as jnp\n",
    "from jax.experimental.ode import odeint\n",
    "\n",
    "import numpyro\n",
    "from numpyro import distributions as dist\n",
    "from numpyro.infer import MCMC, NUTS"
   ]
  },
  {
   "cell_type": "code",
   "execution_count": 2,
   "metadata": {},
   "outputs": [],
   "source": [
    "# Define the SIR model\n",
    "def sir_ode(y, t, beta, gamma):\n",
    "    S, I, R = y\n",
    "    dSdt = -beta * S * I\n",
    "    dIdt = beta * S * I - gamma * I\n",
    "    dRdt = gamma * I\n",
    "    return jnp.array([dSdt, dIdt, dRdt])\n",
    "\n",
    "# Solve the SIR model using JAX's odeint\n",
    "def solve_sir(t, beta, gamma, S0, I0, R0):\n",
    "    y0 = jnp.array([S0, I0, R0])  # Initial conditions\n",
    "    solution = odeint(sir_ode, y0, t, beta, gamma)  # Pass beta and gamma directly as arguments\n",
    "    return solution"
   ]
  },
  {
   "cell_type": "code",
   "execution_count": 3,
   "metadata": {},
   "outputs": [],
   "source": [
    "def numpyro_sir_model(t, S0, I0, R0, new_cases):\n",
    "    # Priors for kinetic parameters (beta and gamma)\n",
    "    beta = numpyro.sample(\"beta\", dist.Uniform(0, 1))\n",
    "    gamma = numpyro.sample(\"gamma\", dist.Uniform(0, 1))\n",
    "\n",
    "    # Solve SIR ODEs\n",
    "    solution = solve_sir(t, beta, gamma, S0, I0, R0)\n",
    "    S, I, R = solution.T\n",
    "\n",
    "    # Compute new cases as the daily change in infections\n",
    "    new_infections = -jnp.diff(S)\n",
    "\n",
    "    # Observation model: Likelihood (Poisson or Normal)\n",
    "    numpyro.sample(\"obs\", dist.Normal(new_infections, 50), obs=new_cases[1:])"
   ]
  },
  {
   "cell_type": "code",
   "execution_count": 4,
   "metadata": {},
   "outputs": [],
   "source": [
    "# Load the data\n",
    "data = pd.read_csv('data/rki_case_numbers_germany.csv')\n",
    "data = data.loc[50:150].reset_index(drop=True)\n",
    "\n",
    "days = np.arange(len(data['new_cases']), dtype=float)  # Time points\n",
    "new_cases = data['new_cases'].values # data points"
   ]
  },
  {
   "cell_type": "code",
   "execution_count": null,
   "metadata": {},
   "outputs": [],
   "source": [
    "# Initial conditions\n",
    "population = 83_166_711  # Example total population\n",
    "I0 = new_cases[0]  # Initial number of infections\n",
    "S0 = population - I0  # Initial susceptible population\n",
    "R0 = 0  # Initial recovered population\n",
    "\n",
    "# NumPyro Inference\n",
    "nuts_kernel = NUTS(numpyro_sir_model)\n",
    "mcmc = MCMC(nuts_kernel, num_warmup=1, num_samples=1)\n",
    "mcmc.run(jax.random.PRNGKey(0), t=days, S0=S0, I0=I0, R0=R0, new_cases=new_cases, )"
   ]
  },
  {
   "cell_type": "code",
   "execution_count": null,
   "metadata": {},
   "outputs": [],
   "source": [
    "# Get posterior samples\n",
    "posterior_samples = mcmc.get_samples()"
   ]
  },
  {
   "cell_type": "code",
   "execution_count": 83,
   "metadata": {},
   "outputs": [
    {
     "data": {
      "text/html": [
       "<div>\n",
       "<style scoped>\n",
       "    .dataframe tbody tr th:only-of-type {\n",
       "        vertical-align: middle;\n",
       "    }\n",
       "\n",
       "    .dataframe tbody tr th {\n",
       "        vertical-align: top;\n",
       "    }\n",
       "\n",
       "    .dataframe thead th {\n",
       "        text-align: right;\n",
       "    }\n",
       "</style>\n",
       "<table border=\"1\" class=\"dataframe\">\n",
       "  <thead>\n",
       "    <tr style=\"text-align: right;\">\n",
       "      <th></th>\n",
       "      <th>day_idx</th>\n",
       "      <th>new_cases</th>\n",
       "      <th>new_cases_7d_average</th>\n",
       "    </tr>\n",
       "  </thead>\n",
       "  <tbody>\n",
       "    <tr>\n",
       "      <th>0</th>\n",
       "      <td>2020-02-20</td>\n",
       "      <td>33.0</td>\n",
       "      <td>16.857143</td>\n",
       "    </tr>\n",
       "    <tr>\n",
       "      <th>1</th>\n",
       "      <td>2020-02-21</td>\n",
       "      <td>19.0</td>\n",
       "      <td>18.285714</td>\n",
       "    </tr>\n",
       "    <tr>\n",
       "      <th>2</th>\n",
       "      <td>2020-02-22</td>\n",
       "      <td>29.0</td>\n",
       "      <td>19.857143</td>\n",
       "    </tr>\n",
       "    <tr>\n",
       "      <th>3</th>\n",
       "      <td>2020-02-23</td>\n",
       "      <td>44.0</td>\n",
       "      <td>24.142857</td>\n",
       "    </tr>\n",
       "    <tr>\n",
       "      <th>4</th>\n",
       "      <td>2020-02-24</td>\n",
       "      <td>70.0</td>\n",
       "      <td>32.285714</td>\n",
       "    </tr>\n",
       "    <tr>\n",
       "      <th>5</th>\n",
       "      <td>2020-02-25</td>\n",
       "      <td>109.0</td>\n",
       "      <td>45.285714</td>\n",
       "    </tr>\n",
       "    <tr>\n",
       "      <th>6</th>\n",
       "      <td>2020-02-26</td>\n",
       "      <td>163.0</td>\n",
       "      <td>66.714286</td>\n",
       "    </tr>\n",
       "  </tbody>\n",
       "</table>\n",
       "</div>"
      ],
      "text/plain": [
       "      day_idx  new_cases  new_cases_7d_average\n",
       "0  2020-02-20       33.0             16.857143\n",
       "1  2020-02-21       19.0             18.285714\n",
       "2  2020-02-22       29.0             19.857143\n",
       "3  2020-02-23       44.0             24.142857\n",
       "4  2020-02-24       70.0             32.285714\n",
       "5  2020-02-25      109.0             45.285714\n",
       "6  2020-02-26      163.0             66.714286"
      ]
     },
     "execution_count": 83,
     "metadata": {},
     "output_type": "execute_result"
    }
   ],
   "source": [
    "data.head(7)"
   ]
  },
  {
   "cell_type": "code",
   "execution_count": 24,
   "metadata": {},
   "outputs": [
    {
     "data": {
      "text/plain": [
       "[<matplotlib.lines.Line2D at 0x344bae9f0>]"
      ]
     },
     "execution_count": 24,
     "metadata": {},
     "output_type": "execute_result"
    },
    {
     "data": {
      "image/png": "[encoded data removed]",
      "text/plain": [
       "<Figure size 400x300 with 1 Axes>"
      ]
     },
     "metadata": {},
     "output_type": "display_data"
    }
   ],
   "source": [
    "time = np.arange(0,len(data))\n",
    "data = real_data['new_cases']\n",
    "data_7d_avg = real_data['new_cases_7d_average']\n",
    "\n",
    "fig, ax = plt.subplots(figsize=(4,3))\n",
    "\n",
    "ax.plot(time, data)\n",
    "ax.plot(time, data_7d_avg)"
   ]
  },
  {
   "cell_type": "code",
   "execution_count": 33,
   "metadata": {},
   "outputs": [
    {
     "data": {
      "text/plain": [
       "(958, 3)"
      ]
     },
     "execution_count": 33,
     "metadata": {},
     "output_type": "execute_result"
    }
   ],
   "source": []
  },
  {
   "cell_type": "code",
   "execution_count": 45,
   "metadata": {},
   "outputs": [],
   "source": [
    "sliding_windows = []\n",
    "for i in range(real_data_raw.shape[0]-7):\n",
    "    sliding_windows.append(real_data_raw['new_cases'][i:i+7])\n",
    "sliding_windows = np.array(sliding_windows)"
   ]
  },
  {
   "cell_type": "code",
   "execution_count": 48,
   "metadata": {},
   "outputs": [
    {
     "data": {
      "text/plain": [
       "array([[1.8000e+01, 1.7000e+01, 2.0000e+01, ..., 2.2000e+01, 1.2000e+01,\n",
       "        1.1000e+01],\n",
       "       [1.7000e+01, 2.0000e+01, 2.3000e+01, ..., 1.2000e+01, 1.1000e+01,\n",
       "        7.0000e+00],\n",
       "       [2.0000e+01, 2.3000e+01, 2.2000e+01, ..., 1.1000e+01, 7.0000e+00,\n",
       "        8.0000e+00],\n",
       "       ...,\n",
       "       [1.7007e+04, 1.2075e+04, 6.4323e+04, ..., 5.3617e+04, 4.5335e+04,\n",
       "        4.1938e+04],\n",
       "       [1.2075e+04, 6.4323e+04, 6.4588e+04, ..., 4.5335e+04, 4.1938e+04,\n",
       "        1.4325e+04],\n",
       "       [6.4323e+04, 6.4588e+04, 5.3617e+04, ..., 4.1938e+04, 1.4325e+04,\n",
       "        1.1248e+04]])"
      ]
     },
     "execution_count": 48,
     "metadata": {},
     "output_type": "execute_result"
    }
   ],
   "source": [
    "sliding_windows"
   ]
  },
  {
   "cell_type": "code",
   "execution_count": 55,
   "metadata": {},
   "outputs": [
    {
     "data": {
      "text/plain": [
       "array([ 33.,  19.,  29.,  44.,  70., 109., 163.])"
      ]
     },
     "execution_count": 55,
     "metadata": {},
     "output_type": "execute_result"
    }
   ],
   "source": [
    "sliding_windows[50]"
   ]
  },
  {
   "cell_type": "code",
   "execution_count": 56,
   "metadata": {},
   "outputs": [
    {
     "data": {
      "text/plain": [
       "array([  66.71428571,   85.        ,  114.14285714,  137.28571429,\n",
       "        164.57142857,  197.57142857,  226.14285714,  262.57142857,\n",
       "        304.71428571,  370.14285714,  459.71428571,  584.85714286,\n",
       "        796.14285714, 1075.28571429, 1419.71428571, 1805.85714286,\n",
       "       2268.57142857, 2708.71428571, 3128.85714286, 3658.42857143,\n",
       "       4040.        , 4372.14285714, 4577.71428571, 4761.71428571,\n",
       "       4809.42857143, 4719.        , 4645.28571429, 4518.28571429,\n",
       "       4433.71428571, 4386.14285714, 4276.28571429, 4235.42857143,\n",
       "       4180.42857143, 4094.14285714, 4082.42857143, 4066.42857143,\n",
       "       4062.57142857, 4052.14285714, 3954.        , 3898.28571429,\n",
       "       3774.85714286, 3701.57142857, 3557.71428571, 3420.42857143,\n",
       "       3164.        , 3030.85714286, 2925.71428571, 2680.28571429,\n",
       "       2482.57142857, 2309.71428571, 2148.42857143, 2093.        ,\n",
       "       1996.71428571, 1909.42857143, 1886.        , 1806.85714286,\n",
       "       1731.71428571, 1650.        , 1546.42857143, 1471.        ,\n",
       "       1399.71428571, 1335.71428571, 1273.        , 1184.57142857,\n",
       "       1121.57142857, 1037.14285714,  974.85714286,  946.42857143,\n",
       "        897.28571429,  871.71428571,  847.85714286,  806.28571429,\n",
       "        796.71428571,  784.85714286,  763.        ,  742.28571429,\n",
       "        706.14285714,  675.57142857,  644.71428571,  635.42857143,\n",
       "        621.42857143,  614.        ,  605.85714286,  590.14285714,\n",
       "        589.85714286,  558.28571429,  515.85714286,  493.42857143,\n",
       "        479.        ,  454.14285714,  459.        ,  434.42857143,\n",
       "        438.57142857,  430.42857143,  430.        ,  419.        ,\n",
       "        388.42857143,  356.57142857,  346.85714286,  347.42857143])"
      ]
     },
     "execution_count": 56,
     "metadata": {},
     "output_type": "execute_result"
    }
   ],
   "source": [
    "sliding_windows[50:150].mean(axis=1)"
   ]
  },
  {
   "cell_type": "code",
   "execution_count": null,
   "metadata": {},
   "outputs": [],
   "source": []
  }
 ],
 "metadata": {
  "colab": {
   "provenance": []
  },
  "kernelspec": {
   "display_name": "Python 3 (ipykernel)",
   "language": "python",
   "name": "python3"
  },
  "language_info": {
   "codemirror_mode": {
    "name": "ipython",
    "version": 3
   },
   "file_extension": ".py",
   "mimetype": "text/x-python",
   "name": "python",
   "nbconvert_exporter": "python",
   "pygments_lexer": "ipython3",
   "version": "3.12.7"
  }
 },
 "nbformat": 4,
 "nbformat_minor": 4
}
